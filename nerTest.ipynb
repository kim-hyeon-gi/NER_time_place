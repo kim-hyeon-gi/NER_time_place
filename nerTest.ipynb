{
 "cells": [
  {
   "cell_type": "code",
   "execution_count": 22,
   "id": "31a0f737",
   "metadata": {},
   "outputs": [],
   "source": [
    "import argparse\n",
    "import easydict\n",
    "from trainer import Trainer\n",
    "from utils import init_logger, load_tokenizer, set_seed, MODEL_CLASSES, MODEL_PATH_MAP\n",
    "from data_loader import load_and_cache_examples\n",
    "import main"
   ]
  },
  {
   "cell_type": "code",
   "execution_count": 20,
   "id": "8f61b650",
   "metadata": {},
   "outputs": [],
   "source": [
    "args = easydict.EasyDict({\n",
    "    \"input_file\":\"sample_pred_in.txt\",\n",
    "    \"output_file\":\"sample_pred_out.txt\",\n",
    "    \"model_dir\":\"./model\",\n",
    "    \"batch_size\":32,\n",
    "    \"no_cuda\":store_true\n",
    "})\n",
    "args.model_name_or_path = MODEL_PATH_MAP[args.model_type]"
   ]
  },
  {
   "cell_type": "code",
   "execution_count": 25,
   "id": "45b26db2",
   "metadata": {},
   "outputs": [
    {
     "data": {
      "text/plain": [
       "{'task': 'naver-ner',\n",
       " 'model_dir': './model',\n",
       " 'data_dir': './data',\n",
       " 'pred_dir': './preds',\n",
       " 'train_file': 'train.tsv',\n",
       " 'test_file': 'test.tsv',\n",
       " 'label_file': 'label.txt',\n",
       " 'write_pred': 'store_true',\n",
       " 'model_type': 'kobert',\n",
       " 'seed': 42,\n",
       " 'train_batch_size': 32,\n",
       " 'eval_batch_size': 32,\n",
       " 'max_seq_len': 50,\n",
       " 'learning_rate': 5e-05,\n",
       " 'num_train_epochs': 20.0,\n",
       " 'weight_decay': 0.0,\n",
       " 'gradient_accumulation_steps': 1,\n",
       " 'adam_epsilon': 1e-08,\n",
       " 'max_grad_norm': 1.0,\n",
       " 'max_steps': -1,\n",
       " 'warmup_steps': 0,\n",
       " 'logging_steps': 1000,\n",
       " 'save_steps': 1000,\n",
       " 'do_train': 'store_true',\n",
       " 'do_eval': 'store_true',\n",
       " 'no_cuda': 'store_true',\n",
       " 'model_name_or_path': 'monologg/kobert'}"
      ]
     },
     "execution_count": 25,
     "metadata": {},
     "output_type": "execute_result"
    }
   ],
   "source": [
    "args"
   ]
  },
  {
   "cell_type": "markdown",
   "id": "fa4c212d",
   "metadata": {},
   "source": [
    "## main"
   ]
  },
  {
   "cell_type": "code",
   "execution_count": 23,
   "id": "26c62345",
   "metadata": {},
   "outputs": [],
   "source": [
    "init_logger()\n",
    "set_seed(args)"
   ]
  },
  {
   "cell_type": "code",
   "execution_count": 24,
   "id": "6b99ee89",
   "metadata": {},
   "outputs": [],
   "source": [
    "tokenizer = load_tokenizer(args)"
   ]
  },
  {
   "cell_type": "code",
   "execution_count": 27,
   "id": "afc37541",
   "metadata": {},
   "outputs": [
    {
     "data": {
      "text/plain": [
       "PreTrainedTokenizer(name_or_path='monologg/kobert', vocab_size=8002, model_max_len=512, is_fast=False, padding_side='right', special_tokens={'unk_token': '[UNK]', 'sep_token': '[SEP]', 'pad_token': '[PAD]', 'cls_token': '[CLS]', 'mask_token': '[MASK]'})"
      ]
     },
     "execution_count": 27,
     "metadata": {},
     "output_type": "execute_result"
    }
   ],
   "source": [
    "tokenizer"
   ]
  },
  {
   "cell_type": "code",
   "execution_count": null,
   "id": "9e604e64",
   "metadata": {},
   "outputs": [],
   "source": []
  }
 ],
 "metadata": {
  "kernelspec": {
   "display_name": "Python [conda env:nlp] *",
   "language": "python",
   "name": "conda-env-nlp-py"
  },
  "language_info": {
   "codemirror_mode": {
    "name": "ipython",
    "version": 3
   },
   "file_extension": ".py",
   "mimetype": "text/x-python",
   "name": "python",
   "nbconvert_exporter": "python",
   "pygments_lexer": "ipython3",
   "version": "3.7.11"
  }
 },
 "nbformat": 4,
 "nbformat_minor": 5
}
